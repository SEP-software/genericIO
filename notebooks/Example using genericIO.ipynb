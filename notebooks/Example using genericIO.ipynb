{
 "cells": [
  {
   "cell_type": "markdown",
   "metadata": {},
   "source": [
    "# Example using genericIO\n",
    "\n",
    "This uses pySepPlot for graphics. Needs to be installed to make this notebook graphics to work."
   ]
  },
  {
   "cell_type": "code",
   "execution_count": 8,
   "metadata": {},
   "outputs": [
    {
     "ename": "ImportError",
     "evalue": "dlopen(/opt/SEP/lib/python/pySyntheticGen.cpython-36m-darwin.so, 2): Symbol not found: __ZN3SEP10floatHyper10infoStreamEiRNSt7__cxx1118basic_stringstreamIcSt11char_traitsIcESaIcEEE\n  Referenced from: /opt/SEP/lib/python/pySyntheticGen.cpython-36m-darwin.so\n  Expected in: flat namespace\n in /opt/SEP/lib/python/pySyntheticGen.cpython-36m-darwin.so",
     "output_type": "error",
     "traceback": [
      "\u001b[0;31m---------------------------------------------------------------------------\u001b[0m",
      "\u001b[0;31mImportError\u001b[0m                               Traceback (most recent call last)",
      "\u001b[0;32m<ipython-input-8-d18dece25578>\u001b[0m in \u001b[0;36m<module>\u001b[0;34m()\u001b[0m\n\u001b[1;32m      1\u001b[0m \u001b[0;32mimport\u001b[0m \u001b[0msepPlot\u001b[0m \u001b[0;31m#For graphics\u001b[0m\u001b[0;34m\u001b[0m\u001b[0m\n\u001b[0;32m----> 2\u001b[0;31m \u001b[0;32mimport\u001b[0m \u001b[0mpySyntheticGen\u001b[0m\u001b[0;34m\u001b[0m\u001b[0m\n\u001b[0m",
      "\u001b[0;31mImportError\u001b[0m: dlopen(/opt/SEP/lib/python/pySyntheticGen.cpython-36m-darwin.so, 2): Symbol not found: __ZN3SEP10floatHyper10infoStreamEiRNSt7__cxx1118basic_stringstreamIcSt11char_traitsIcESaIcEEE\n  Referenced from: /opt/SEP/lib/python/pySyntheticGen.cpython-36m-darwin.so\n  Expected in: flat namespace\n in /opt/SEP/lib/python/pySyntheticGen.cpython-36m-darwin.so"
     ]
    }
   ],
   "source": [
    "import sepPlot #For graphics\n",
    "import pySyntheticGen"
   ]
  },
  {
   "cell_type": "code",
   "execution_count": 5,
   "metadata": {},
   "outputs": [],
   "source": [
    "x=3"
   ]
  },
  {
   "cell_type": "code",
   "execution_count": 6,
   "metadata": {},
   "outputs": [
    {
     "name": "stdout",
     "output_type": "stream",
     "text": [
      "3\n"
     ]
    }
   ],
   "source": [
    "print(x)\n"
   ]
  },
  {
   "cell_type": "code",
   "execution_count": null,
   "metadata": {},
   "outputs": [],
   "source": []
  }
 ],
 "metadata": {
  "kernelspec": {
   "display_name": "Python 3",
   "language": "python",
   "name": "python3"
  },
  "language_info": {
   "codemirror_mode": {
    "name": "ipython",
    "version": 3
   },
   "file_extension": ".py",
   "mimetype": "text/x-python",
   "name": "python",
   "nbconvert_exporter": "python",
   "pygments_lexer": "ipython3",
   "version": "3.6.5"
  }
 },
 "nbformat": 4,
 "nbformat_minor": 2
}
